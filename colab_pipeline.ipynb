{
 "cells": [
  {
   "cell_type": "markdown",
   "metadata": {},
   "source": [
    "# 🚀 Hyperspectral Plastic Classification Pipeline\n",
    "## Google Colab Pro+ Edition\n",
    "\n",
    "This notebook runs the complete pipeline for hyperspectral plastic classification.\n",
    "\n",
    "**Features:**\n",
    "- 🎯 6 Model Architectures (CNN, ResNet, Deep, Inception, LSTM, Transformer)\n",
    "- ⚡ GPU Acceleration (CUDA)\n",
    "- 📊 11 Classes: Background + 10 plastic types\n",
    "- 💾 Automatic Results Download\n",
    "\n",
    "**Requirements:**\n",
    "- Google Colab Pro+ (for best performance)\n",
    "- Code from GitHub\n",
    "- Data uploaded to Google Drive\n",
    "- ~20-30 GB free space on Drive"
   ]
  },
  {
   "cell_type": "markdown",
   "metadata": {},
   "source": [
    "## 📦 Step 1: Clone Code from GitHub"
   ]
  },
  {
   "cell_type": "code",
   "execution_count": null,
   "metadata": {},
   "outputs": [],
   "source": [
    "# Clone the repository from GitHub\n",
    "!git clone https://github.com/PlugNawapong/plastic-type-classification.git\n",
    "%cd plastic-type-classification\n",
    "\n",
    "import os\n",
    "print(\"✓ Code cloned from GitHub\")\n",
    "print(\"✓ Working directory:\", os.getcwd())"
   ]
  },
  {
   "cell_type": "markdown",
   "metadata": {},
   "source": [
    "## 📁 Step 2: Mount Google Drive & Setup Data\n",
    "\n",
    "**Important:** Before running this cell, upload your data to Google Drive:\n",
    "- `training_dataset/` (PNG files + header.json)\n",
    "- `Ground_Truth/` (labels.png + labels.json)\n",
    "- `Inference_dataset1/` (PNG files + header.json)"
   ]
  },
  {
   "cell_type": "code",
   "execution_count": null,
   "metadata": {},
   "outputs": [],
   "source": "from google.colab import drive\nimport os\nfrom pathlib import Path\n\n# Mount Google Drive\ndrive.mount('/content/drive')\n\n# Define data path (CHANGE THIS if your data is in a different location)\nDATA_PATH = '/content/drive/MyDrive/hyperspectral_data'\n\nprint(f\"Data path: {DATA_PATH}\")\nprint(f\"Data path exists: {Path(DATA_PATH).exists()}\")\n\n# Remove old links if they exist\n!rm -f training_dataset Ground_Truth Inference_dataset1\n\n# Create symbolic links to data folders\n!ln -s \"{DATA_PATH}/training_dataset\" training_dataset\n!ln -s \"{DATA_PATH}/Ground_Truth\" Ground_Truth\n!ln -s \"{DATA_PATH}/Inference_dataset1\" Inference_dataset1\n\nprint(\"\\n✓ Google Drive mounted\")\n\n# Verify links were created\nif Path('training_dataset').exists():\n    print(\"✓ training_dataset linked\")\nelse:\n    print(\"✗ training_dataset link failed - check DATA_PATH\")\n    \nif Path('Ground_Truth').exists():\n    print(\"✓ Ground_Truth linked\")\nelse:\n    print(\"✗ Ground_Truth link failed - check DATA_PATH\")\n    \nif Path('Inference_dataset1').exists():\n    print(\"✓ Inference_dataset1 linked\")\nelse:\n    print(\"✗ Inference_dataset1 link failed - check DATA_PATH\")"
  },
  {
   "cell_type": "markdown",
   "metadata": {},
   "source": [
    "## 🎮 Step 3: Check GPU Availability"
   ]
  },
  {
   "cell_type": "code",
   "execution_count": null,
   "metadata": {},
   "outputs": [],
   "source": [
    "import torch\n",
    "\n",
    "print(\"PyTorch version:\", torch.__version__)\n",
    "print(\"CUDA available:\", torch.cuda.is_available())\n",
    "\n",
    "if torch.cuda.is_available():\n",
    "    print(\"GPU:\", torch.cuda.get_device_name(0))\n",
    "    print(\"GPU Memory:\", torch.cuda.get_device_properties(0).total_memory / 1e9, \"GB\")\n",
    "    print(\"\\n✅ GPU is ready!\")\n",
    "else:\n",
    "    print(\"\\n⚠️ No GPU detected!\")\n",
    "    print(\"Go to: Runtime > Change runtime type > Hardware accelerator > GPU\")"
   ]
  },
  {
   "cell_type": "markdown",
   "metadata": {},
   "source": [
    "## 📦 Step 4: Install Dependencies"
   ]
  },
  {
   "cell_type": "code",
   "execution_count": null,
   "metadata": {},
   "outputs": [],
   "source": [
    "# Install required packages\n",
    "!pip install -q scipy tqdm matplotlib pillow\n",
    "print(\"✓ Dependencies installed\")"
   ]
  },
  {
   "cell_type": "markdown",
   "metadata": {},
   "source": [
    "## 📂 Step 5: Verify Data Structure"
   ]
  },
  {
   "cell_type": "code",
   "execution_count": null,
   "metadata": {},
   "outputs": [],
   "source": "from pathlib import Path\nimport re\n\n# Check required folders and files\nrequired = [\n    'training_dataset/header.json',\n    'Ground_Truth/labels.png',\n    'Ground_Truth/labels.json',\n    'Inference_dataset1/header.json',\n    'run_pipeline_config.py'\n]\n\nprint(\"Checking data structure...\")\nall_good = True\nfor item in required:\n    exists = Path(item).exists()\n    status = \"✓\" if exists else \"✗\"\n    print(f\"{status} {item}\")\n    if not exists:\n        all_good = False\n\n# Count band files with strict pattern matching\n# Only count files matching ImagesStack###.png (3 digits)\npattern = re.compile(r'^ImagesStack\\d{3}\\.png$')\n\ntrain_files = [f for f in Path('training_dataset').glob('*.png') if pattern.match(f.name)]\ninfer_files = [f for f in Path('Inference_dataset1').glob('*.png') if pattern.match(f.name)]\n\ntrain_bands = len(train_files)\ninfer_bands = len(infer_files)\n\nprint(f\"\\n✓ Training bands: {train_bands}\")\nprint(f\"✓ Inference bands: {infer_bands}\")\n\nif all_good and train_bands > 0 and infer_bands > 0:\n    print(\"\\n✅ All data files present!\")\n    print(\"Ready to run the pipeline.\")\nelse:\n    print(\"\\n❌ Some files are missing.\")\n    print(\"Please check your DATA_PATH in Step 2.\")"
  },
  {
   "cell_type": "markdown",
   "metadata": {},
   "source": [
    "## ⚙️ Step 6: Configure Pipeline Parameters\n",
    "\n",
    "Edit these parameters to customize your training:"
   ]
  },
  {
   "cell_type": "code",
   "execution_count": null,
   "metadata": {},
   "outputs": [],
   "source": [
    "# ==================== CONFIGURATION ====================\n",
    "\n",
    "# Mode\n",
    "MODE = \"full\"  # Options: \"full\", \"normalize\", \"train\", \"inference\"\n",
    "\n",
    "# Normalization (skip if already normalized)\n",
    "SKIP_NORMALIZE = False  # Set to True if data already normalized\n",
    "LOWER_PERCENTILE = 2\n",
    "UPPER_PERCENTILE = 98\n",
    "\n",
    "# Preprocessing\n",
    "SPECTRAL_BINNING = 2      # 2, 5, 10, or None\n",
    "SPATIAL_BINNING = None    # 2, 4, 8, or None\n",
    "WAVELENGTH_RANGE = None   # e.g., (450, 700) or None\n",
    "DENOISE = False\n",
    "DENOISE_METHOD = \"gaussian\"  # \"gaussian\" or \"median\"\n",
    "DENOISE_STRENGTH = 1.0\n",
    "\n",
    "# Model\n",
    "MODEL_TYPE = \"resnet\"  # Options: \"cnn\", \"resnet\", \"deep\", \"inception\", \"lstm\", \"transformer\"\n",
    "DROPOUT = 0.3\n",
    "\n",
    "# Training\n",
    "EPOCHS = 50\n",
    "LEARNING_RATE = 0.001\n",
    "BATCH_SIZE = 512  # Colab can handle larger batches\n",
    "VAL_RATIO = 0.2\n",
    "\n",
    "# ======================================================\n",
    "\n",
    "print(\"Configuration:\")\n",
    "print(f\"  Mode: {MODE}\")\n",
    "print(f\"  Model: {MODEL_TYPE}\")\n",
    "print(f\"  Epochs: {EPOCHS}\")\n",
    "print(f\"  Batch Size: {BATCH_SIZE}\")\n",
    "print(f\"  Spectral Binning: {SPECTRAL_BINNING}\")\n",
    "print(f\"  Spatial Binning: {SPATIAL_BINNING}\")"
   ]
  },
  {
   "cell_type": "markdown",
   "metadata": {},
   "source": [
    "## 🚀 Step 7: Run Pipeline"
   ]
  },
  {
   "cell_type": "code",
   "execution_count": null,
   "metadata": {},
   "outputs": [],
   "source": [
    "# Build command\n",
    "cmd = f\"python run_pipeline_config.py --mode {MODE}\"\n",
    "\n",
    "if SKIP_NORMALIZE:\n",
    "    cmd += \" --skip-normalize\"\n",
    "\n",
    "cmd += f\" --lower-percentile {LOWER_PERCENTILE}\"\n",
    "cmd += f\" --upper-percentile {UPPER_PERCENTILE}\"\n",
    "\n",
    "if SPECTRAL_BINNING:\n",
    "    cmd += f\" --spectral-binning {SPECTRAL_BINNING}\"\n",
    "\n",
    "if SPATIAL_BINNING:\n",
    "    cmd += f\" --spatial-binning {SPATIAL_BINNING}\"\n",
    "\n",
    "if WAVELENGTH_RANGE:\n",
    "    cmd += f\" --wavelength-range {WAVELENGTH_RANGE[0]} {WAVELENGTH_RANGE[1]}\"\n",
    "\n",
    "if DENOISE:\n",
    "    cmd += f\" --denoise --denoise-method {DENOISE_METHOD} --denoise-strength {DENOISE_STRENGTH}\"\n",
    "\n",
    "cmd += f\" --model-type {MODEL_TYPE}\"\n",
    "cmd += f\" --dropout {DROPOUT}\"\n",
    "cmd += f\" --epochs {EPOCHS}\"\n",
    "cmd += f\" --lr {LEARNING_RATE}\"\n",
    "cmd += f\" --batch-size {BATCH_SIZE}\"\n",
    "cmd += f\" --val-ratio {VAL_RATIO}\"\n",
    "\n",
    "print(\"Running command:\")\n",
    "print(cmd)\n",
    "print(\"\\n\" + \"=\"*60)\n",
    "\n",
    "# Run pipeline\n",
    "!{cmd}"
   ]
  },
  {
   "cell_type": "markdown",
   "metadata": {},
   "source": [
    "## 📊 Step 8: View Training Results"
   ]
  },
  {
   "cell_type": "code",
   "execution_count": null,
   "metadata": {},
   "outputs": [],
   "source": [
    "import json\n",
    "import matplotlib.pyplot as plt\n",
    "from PIL import Image\n",
    "from pathlib import Path\n",
    "\n",
    "# Load training history\n",
    "history_path = Path('output/training/training_history.json')\n",
    "if history_path.exists():\n",
    "    with open(history_path, 'r') as f:\n",
    "        history = json.load(f)\n",
    "    \n",
    "    # Plot training curves\n",
    "    fig, (ax1, ax2) = plt.subplots(1, 2, figsize=(14, 5))\n",
    "    \n",
    "    epochs = range(1, len(history['train_losses']) + 1)\n",
    "    \n",
    "    # Loss\n",
    "    ax1.plot(epochs, history['train_losses'], 'b-', label='Train Loss')\n",
    "    ax1.plot(epochs, history['val_losses'], 'r-', label='Val Loss')\n",
    "    ax1.set_xlabel('Epoch')\n",
    "    ax1.set_ylabel('Loss')\n",
    "    ax1.set_title('Training and Validation Loss')\n",
    "    ax1.legend()\n",
    "    ax1.grid(True)\n",
    "    \n",
    "    # Accuracy\n",
    "    ax2.plot(epochs, history['train_accs'], 'b-', label='Train Acc')\n",
    "    ax2.plot(epochs, history['val_accs'], 'r-', label='Val Acc')\n",
    "    ax2.set_xlabel('Epoch')\n",
    "    ax2.set_ylabel('Accuracy (%)')\n",
    "    ax2.set_title('Training and Validation Accuracy')\n",
    "    ax2.legend()\n",
    "    ax2.grid(True)\n",
    "    \n",
    "    plt.tight_layout()\n",
    "    plt.show()\n",
    "    \n",
    "    print(f\"\\nBest Validation Accuracy: {history['best_val_acc']:.2f}% (Epoch {history['best_epoch']})\")\n",
    "else:\n",
    "    print(\"Training history not found. Run training first.\")"
   ]
  },
  {
   "cell_type": "markdown",
   "metadata": {},
   "source": [
    "## 🔬 Step 9: View Inference Results"
   ]
  },
  {
   "cell_type": "code",
   "execution_count": null,
   "metadata": {},
   "outputs": [],
   "source": [
    "# Show inference predictions\n",
    "pred_path = Path('output/inference/predictions.png')\n",
    "if pred_path.exists():\n",
    "    print(\"Inference Predictions:\")\n",
    "    print(\"=\"*60)\n",
    "    \n",
    "    img = Image.open(pred_path)\n",
    "    plt.figure(figsize=(12, 8))\n",
    "    plt.imshow(img)\n",
    "    plt.axis('off')\n",
    "    plt.title('Predicted Plastic Types (11 Classes)')\n",
    "    plt.tight_layout()\n",
    "    plt.show()\n",
    "else:\n",
    "    print(\"Predictions not found. Run inference first.\")"
   ]
  },
  {
   "cell_type": "markdown",
   "metadata": {},
   "source": [
    "## 📈 Step 10: View Inference Statistics"
   ]
  },
  {
   "cell_type": "code",
   "execution_count": null,
   "metadata": {},
   "outputs": [],
   "source": [
    "# Load inference statistics\n",
    "stats_path = Path('output/inference/inference_statistics.json')\n",
    "if stats_path.exists():\n",
    "    with open(stats_path, 'r') as f:\n",
    "        stats = json.load(f)\n",
    "    \n",
    "    print(\"Inference Statistics:\")\n",
    "    print(\"=\"*60)\n",
    "    print(f\"Total pixels: {stats['total_pixels']:,}\\n\")\n",
    "    print(\"Class Distribution (11 classes total):\")\n",
    "    print(\"-\"*60)\n",
    "    print(f\"{'Class':<15} {'Pixels':>12} {'Percentage':>12} {'Confidence':>12}\")\n",
    "    print(\"-\"*60)\n",
    "    \n",
    "    for class_id, info in sorted(stats['class_distribution'].items()):\n",
    "        print(f\"{info['class_name']:<15} {info['pixel_count']:>12,} {info['percentage']:>11.2f}% {info['mean_confidence']:>11.3f}\")\n",
    "else:\n",
    "    print(\"Statistics not found. Run inference first.\")"
   ]
  },
  {
   "cell_type": "markdown",
   "metadata": {},
   "source": [
    "## 💾 Step 11: Download Results (Optional)"
   ]
  },
  {
   "cell_type": "code",
   "execution_count": null,
   "metadata": {},
   "outputs": [],
   "source": [
    "# Create ZIP of results\n",
    "!zip -r results.zip output/\n",
    "\n",
    "# Download to local machine\n",
    "from google.colab import files\n",
    "files.download('results.zip')\n",
    "\n",
    "print(\"✓ Results downloaded as results.zip\")"
   ]
  },
  {
   "cell_type": "markdown",
   "metadata": {},
   "source": [
    "## 🧹 Step 12: Cleanup (Optional)\n",
    "\n",
    "Remove large temporary files to free up space:"
   ]
  },
  {
   "cell_type": "markdown",
   "metadata": {},
   "source": [
    "## 🔬 Quick Experiments: Try Different Models\n",
    "\n",
    "After normalizing once, quickly try different models:"
   ]
  },
  {
   "cell_type": "code",
   "execution_count": null,
   "metadata": {},
   "outputs": [],
   "source": [
    "# Remove normalized data (can be regenerated)\n",
    "!rm -rf training_dataset_normalized/\n",
    "!rm -rf Inference_dataset1_normalized/\n",
    "\n",
    "print(\"✓ Normalized data removed (can be regenerated)\")\n",
    "print(\"  Model and results are preserved in output/\")"
   ]
  },
  {
   "cell_type": "code",
   "execution_count": null,
   "metadata": {},
   "outputs": [],
   "source": [
    "# Try different models quickly (data already normalized)\n",
    "models = [\"cnn\", \"resnet\", \"deep\", \"inception\", \"lstm\", \"transformer\"]\n",
    "\n",
    "for model in models:\n",
    "    print(f\"\\n{'='*60}\")\n",
    "    print(f\"Training with {model.upper()} model\")\n",
    "    print(f\"{'='*60}\")\n",
    "    \n",
    "    cmd = f\"python run_pipeline_config.py --mode train --skip-normalize \"\n",
    "    cmd += f\"--model-type {model} --epochs 20 --batch-size 512\"\n",
    "    \n",
    "    !{cmd}\n",
    "    \n",
    "    print(f\"\\n✓ {model.upper()} training complete\\n\")"
   ]
  }
 ],
 "metadata": {
  "accelerator": "GPU",
  "colab": {
   "gpuType": "A100",
   "provenance": []
  },
  "kernelspec": {
   "display_name": "Python 3",
   "language": "python",
   "name": "python3"
  },
  "language_info": {
   "name": "python",
   "version": "3.10.0"
  }
 },
 "nbformat": 4,
 "nbformat_minor": 0
}